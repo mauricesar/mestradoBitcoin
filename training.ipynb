{
  "nbformat": 4,
  "nbformat_minor": 0,
  "metadata": {
    "colab": {
      "name": "training.ipynb",
      "provenance": []
    },
    "kernelspec": {
      "name": "python3",
      "display_name": "Python 3"
    }
  },
  "cells": [
    {
      "cell_type": "code",
      "metadata": {
        "id": "lliGZ6gyXR8E",
        "colab_type": "code",
        "colab": {}
      },
      "source": [
        "import requests\n",
        "import numpy as np\n",
        "import pandas as pd\n",
        "from sklearn.preprocessing import LabelEncoder\n",
        "from sklearn.model_selection import train_test_split\n",
        "from sklearn.model_selection import cross_val_score\n",
        "from sklearn.metrics import confusion_matrix\n",
        "from sklearn.neighbors import KNeighborsClassifier\n",
        "from joblib import dump"
      ],
      "execution_count": 33,
      "outputs": []
    },
    {
      "cell_type": "code",
      "metadata": {
        "id": "INPvZyAvcIC-",
        "colab_type": "code",
        "colab": {
          "base_uri": "https://localhost:8080/",
          "height": 173
        },
        "outputId": "6a4eeef5-00b2-46f6-f82a-6ecd380754f7"
      },
      "source": [
        "DATA_FILE = 'crawler/coinmarketExample.csv'\n",
        "\n",
        "data = pd.read_csv(DATA_FILE)\n",
        "data.describe()"
      ],
      "execution_count": 34,
      "outputs": [
        {
          "output_type": "execute_result",
          "data": {
            "text/plain": "                date    open    high     low   close volume     market cap\ncount           2188    2188    2188    2188    2188   2188           2188\nunique          2188    2162    2157    2169    2158   1946           2187\ntop     Nov 14, 2017  418.42  108.00  429.08  104.00      0  1,229,098,150\nfreq               1       3       3       3       4    243              2",
            "text/html": "<div>\n<style scoped>\n    .dataframe tbody tr th:only-of-type {\n        vertical-align: middle;\n    }\n\n    .dataframe tbody tr th {\n        vertical-align: top;\n    }\n\n    .dataframe thead th {\n        text-align: right;\n    }\n</style>\n<table border=\"1\" class=\"dataframe\">\n  <thead>\n    <tr style=\"text-align: right;\">\n      <th></th>\n      <th>date</th>\n      <th>open</th>\n      <th>high</th>\n      <th>low</th>\n      <th>close</th>\n      <th>volume</th>\n      <th>market cap</th>\n    </tr>\n  </thead>\n  <tbody>\n    <tr>\n      <th>count</th>\n      <td>2188</td>\n      <td>2188</td>\n      <td>2188</td>\n      <td>2188</td>\n      <td>2188</td>\n      <td>2188</td>\n      <td>2188</td>\n    </tr>\n    <tr>\n      <th>unique</th>\n      <td>2188</td>\n      <td>2162</td>\n      <td>2157</td>\n      <td>2169</td>\n      <td>2158</td>\n      <td>1946</td>\n      <td>2187</td>\n    </tr>\n    <tr>\n      <th>top</th>\n      <td>Nov 14, 2017</td>\n      <td>418.42</td>\n      <td>108.00</td>\n      <td>429.08</td>\n      <td>104.00</td>\n      <td>0</td>\n      <td>1,229,098,150</td>\n    </tr>\n    <tr>\n      <th>freq</th>\n      <td>1</td>\n      <td>3</td>\n      <td>3</td>\n      <td>3</td>\n      <td>4</td>\n      <td>243</td>\n      <td>2</td>\n    </tr>\n  </tbody>\n</table>\n</div>"
          },
          "metadata": {},
          "execution_count": 34
        }
      ]
    },
    {
      "cell_type": "code",
      "metadata": {
        "id": "__cUySIfcISX",
        "colab_type": "code",
        "colab": {
          "base_uri": "https://localhost:8080/",
          "height": 221
        },
        "outputId": "7e8e6a84-2cee-4294-e580-960b4cdb08c7",
        "tags": []
      },
      "source": [
        "print(data['open'])"
      ],
      "execution_count": 35,
      "outputs": [
        {
          "output_type": "stream",
          "name": "stdout",
          "text": "0       5,571.51\n1       5,399.37\n2       5,312.49\n3       5,335.88\n4       5,304.16\n          ...   \n2183      116.38\n2184      139.00\n2185      144.00\n2186      134.44\n2187      135.30\nName: open, Length: 2188, dtype: object\n"
        }
      ]
    },
    {
      "cell_type": "markdown",
      "metadata": {
        "id": "ACGFaVpknTms",
        "colab_type": "text"
      },
      "source": [
        "## Tentar substituir todos os valores de market cap por 2 SE o valor na tabela for maior que 2500 e 1 caso contrario"
      ]
    },
    {
      "cell_type": "code",
      "metadata": {
        "id": "R8_Qw174nSga",
        "colab_type": "code",
        "colab": {}
      },
      "source": [
        "for idx, class in enumerate(data['market cap']):\n",
        "    if ((\"2\" in class)):\n",
        "        data['market cap'][idx] = 0\n",
        "    else:\n",
        "        data['market cap'][idx] = 1"
      ],
      "execution_count": 36,
      "outputs": [
        {
          "output_type": "error",
          "ename": "SyntaxError",
          "evalue": "invalid syntax (<ipython-input-36-a27fcf96727a>, line 1)",
          "traceback": [
            "\u001b[0;36m  File \u001b[0;32m\"<ipython-input-36-a27fcf96727a>\"\u001b[0;36m, line \u001b[0;32m1\u001b[0m\n\u001b[0;31m    for idx, class in enumerate(data['market cap']):\u001b[0m\n\u001b[0m             ^\u001b[0m\n\u001b[0;31mSyntaxError\u001b[0m\u001b[0;31m:\u001b[0m invalid syntax\n"
          ]
        }
      ]
    },
    {
      "cell_type": "markdown",
      "metadata": {
        "id": "5amkr1k0efmE",
        "colab_type": "text"
      },
      "source": [
        "## Passar tudo pra inteiro depois"
      ]
    },
    {
      "cell_type": "code",
      "metadata": {
        "id": "clNZA7kQdU5m",
        "colab_type": "code",
        "colab": {}
      },
      "source": [
        "if (not data['open'].dtype == np.dtype(int)):\n",
        "    data['open'] = data['open'].str.extract('(\\d+)').astype(int)\n",
        "if (not data['high'].dtype == np.dtype(int)):\n",
        "    data['high'] = data['high'].str.extract('(\\d+)').astype(int)    \n",
        "if (not data['low'].dtype == np.dtype(int)):\n",
        "    data['low'] = data['low'].str.extract('(\\d+)').astype(int)\n",
        "if (not data['close'].dtype == np.dtype(int)):\n",
        "    data['close'] = data['close'].str.extract('(\\d+)').astype(int)\n",
        "if (not data['volume'].dtype == np.dtype(int)):\n",
        "    data['volume'] = data['volume'].str.extract('(\\d+)').astype(int)\n",
        "if (not data['market cap'].dtype == np.dtype(int)):\n",
        "    data['market cap'] = data['market cap'].str.extract('(\\d+)').astype(int)"
      ],
      "execution_count": 37,
      "outputs": []
    },
    {
      "cell_type": "code",
      "metadata": {
        "id": "JuAKgsOBdU8N",
        "colab_type": "code",
        "colab": {
          "base_uri": "https://localhost:8080/",
          "height": 297
        },
        "outputId": "bd248107-5da9-4af5-dbeb-5a411c2a647f"
      },
      "source": [
        "data.describe()"
      ],
      "execution_count": 38,
      "outputs": [
        {
          "output_type": "execute_result",
          "data": {
            "text/plain": "              open         high          low        close       volume  \\\ncount  2188.000000  2188.000000  2188.000000  2188.000000  2188.000000   \nmean    270.539305   270.557130   268.684186   270.452468    55.186015   \nstd     269.336997   270.440956   266.272336   269.328312   130.142937   \nmin       1.000000     1.000000     1.000000     1.000000     0.000000   \n25%       6.000000     6.000000     6.000000     6.000000     4.000000   \n50%     233.000000   235.000000   232.000000   233.000000    16.000000   \n75%     452.250000   455.000000   446.250000   452.250000    50.000000   \nmax     998.000000   998.000000   996.000000   999.000000   994.000000   \n\n        market cap  \ncount  2188.000000  \nmean     42.719378  \nstd      76.055426  \nmin       1.000000  \n25%       4.000000  \n50%       9.000000  \n75%      67.000000  \nmax     988.000000  ",
            "text/html": "<div>\n<style scoped>\n    .dataframe tbody tr th:only-of-type {\n        vertical-align: middle;\n    }\n\n    .dataframe tbody tr th {\n        vertical-align: top;\n    }\n\n    .dataframe thead th {\n        text-align: right;\n    }\n</style>\n<table border=\"1\" class=\"dataframe\">\n  <thead>\n    <tr style=\"text-align: right;\">\n      <th></th>\n      <th>open</th>\n      <th>high</th>\n      <th>low</th>\n      <th>close</th>\n      <th>volume</th>\n      <th>market cap</th>\n    </tr>\n  </thead>\n  <tbody>\n    <tr>\n      <th>count</th>\n      <td>2188.000000</td>\n      <td>2188.000000</td>\n      <td>2188.000000</td>\n      <td>2188.000000</td>\n      <td>2188.000000</td>\n      <td>2188.000000</td>\n    </tr>\n    <tr>\n      <th>mean</th>\n      <td>270.539305</td>\n      <td>270.557130</td>\n      <td>268.684186</td>\n      <td>270.452468</td>\n      <td>55.186015</td>\n      <td>42.719378</td>\n    </tr>\n    <tr>\n      <th>std</th>\n      <td>269.336997</td>\n      <td>270.440956</td>\n      <td>266.272336</td>\n      <td>269.328312</td>\n      <td>130.142937</td>\n      <td>76.055426</td>\n    </tr>\n    <tr>\n      <th>min</th>\n      <td>1.000000</td>\n      <td>1.000000</td>\n      <td>1.000000</td>\n      <td>1.000000</td>\n      <td>0.000000</td>\n      <td>1.000000</td>\n    </tr>\n    <tr>\n      <th>25%</th>\n      <td>6.000000</td>\n      <td>6.000000</td>\n      <td>6.000000</td>\n      <td>6.000000</td>\n      <td>4.000000</td>\n      <td>4.000000</td>\n    </tr>\n    <tr>\n      <th>50%</th>\n      <td>233.000000</td>\n      <td>235.000000</td>\n      <td>232.000000</td>\n      <td>233.000000</td>\n      <td>16.000000</td>\n      <td>9.000000</td>\n    </tr>\n    <tr>\n      <th>75%</th>\n      <td>452.250000</td>\n      <td>455.000000</td>\n      <td>446.250000</td>\n      <td>452.250000</td>\n      <td>50.000000</td>\n      <td>67.000000</td>\n    </tr>\n    <tr>\n      <th>max</th>\n      <td>998.000000</td>\n      <td>998.000000</td>\n      <td>996.000000</td>\n      <td>999.000000</td>\n      <td>994.000000</td>\n      <td>988.000000</td>\n    </tr>\n  </tbody>\n</table>\n</div>"
          },
          "metadata": {},
          "execution_count": 38
        }
      ]
    },
    {
      "cell_type": "markdown",
      "metadata": {
        "id": "a-MmPOBAesma",
        "colab_type": "text"
      },
      "source": [
        "## Comeca o treinamento"
      ]
    },
    {
      "cell_type": "code",
      "metadata": {
        "id": "GRQ7wg2QdUQY",
        "colab_type": "code",
        "colab": {}
      },
      "source": [
        "X = data[['open', 'high', 'low', 'close', 'volume']].values\n",
        "Y = data['market cap'].values\n",
        "X_train, X_test, Y_train, Y_test = train_test_split(X, Y, test_size = 0.2, random_state = 1)"
      ],
      "execution_count": 39,
      "outputs": []
    },
    {
      "cell_type": "markdown",
      "metadata": {
        "id": "mD-VS9W2e3im",
        "colab_type": "text"
      },
      "source": [
        "X sao as variaveis que vou usar pra chegar ate Y, no exemplo dele ele usa temp, wind e humidity pra chegar ate weater"
      ]
    },
    {
      "cell_type": "code",
      "metadata": {
        "id": "AEDFm4JQdUUC",
        "colab_type": "code",
        "colab": {
          "base_uri": "https://localhost:8080/",
          "height": 224
        },
        "outputId": "e9f82967-0ba5-41b9-9287-520a72c17902",
        "tags": []
      },
      "source": [
        "knn_clf = KNeighborsClassifier(n_neighbors = 5)\n",
        "score = cross_val_score(knn_clf, X, Y, cv = 8)\n",
        "\n",
        "print(\"CV: {}\".format(np.mean(score)))\n",
        "\n",
        "knn_clf.fit(X_train, Y_train)\n",
        "confusion = confusion_matrix(y_true = Y_test, y_pred = knn_clf.predict(X_test))\n",
        "print('Confusion matrix:')\n",
        "print(confusion)"
      ],
      "execution_count": 40,
      "outputs": [
        {
          "output_type": "stream",
          "name": "stdout",
          "text": "CV: 0.5817625197187241\nConfusion matrix:\n[[30  0  0 ...  0  0  0]\n [ 0  6  2 ...  0  0  0]\n [ 0  0 44 ...  0  0  0]\n ...\n [ 0  0  0 ...  0  0  0]\n [ 0  0  0 ...  0  0  0]\n [ 0  0  0 ...  0  1  0]]\n"
        }
      ]
    },
    {
      "cell_type": "markdown",
      "metadata": {
        "id": "XLycS3CWfGdA",
        "colab_type": "text"
      },
      "source": [
        "Faz o dump do joblib depois que terminar de treinar tudo"
      ]
    },
    {
      "cell_type": "code",
      "metadata": {
        "id": "AhJ1tTpadUWn",
        "colab_type": "code",
        "colab": {}
      },
      "source": [
        "dump(knn_clf, 'service/knn_clf.joblib')"
      ],
      "execution_count": 41,
      "outputs": [
        {
          "output_type": "execute_result",
          "data": {
            "text/plain": "['service/knn_clf.joblib']"
          },
          "metadata": {},
          "execution_count": 41
        }
      ]
    },
    {
      "cell_type": "code",
      "metadata": {
        "id": "euKsnS93dUZG",
        "colab_type": "code",
        "colab": {}
      },
      "source": [
        ""
      ],
      "execution_count": null,
      "outputs": []
    }
  ]
}